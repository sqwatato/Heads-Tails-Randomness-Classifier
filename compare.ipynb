{
 "cells": [
  {
   "attachments": {},
   "cell_type": "markdown",
   "metadata": {},
   "source": [
    "### Predicting whether a sequence of heads or tails of length 20 was computer generated or human written\n",
    "#### Comparison of all models"
   ]
  },
  {
   "cell_type": "code",
   "execution_count": 1,
   "metadata": {},
   "outputs": [],
   "source": [
    "import numpy as np\n",
    "import keras\n",
    "import util"
   ]
  },
  {
   "cell_type": "code",
   "execution_count": 2,
   "metadata": {},
   "outputs": [
    {
     "name": "stdout",
     "output_type": "stream",
     "text": [
      "Metal device set to: Apple M1\n",
      "\n",
      "systemMemory: 16.00 GB\n",
      "maxCacheSize: 5.33 GB\n",
      "\n"
     ]
    },
    {
     "name": "stderr",
     "output_type": "stream",
     "text": [
      "2023-01-16 11:21:40.820982: I tensorflow/core/common_runtime/pluggable_device/pluggable_device_factory.cc:306] Could not identify NUMA node of platform GPU ID 0, defaulting to 0. Your kernel may not have been built with NUMA support.\n",
      "2023-01-16 11:21:40.821093: I tensorflow/core/common_runtime/pluggable_device/pluggable_device_factory.cc:272] Created TensorFlow device (/job:localhost/replica:0/task:0/device:GPU:0 with 0 MB memory) -> physical PluggableDevice (device: 0, name: METAL, pci bus id: <undefined>)\n"
     ]
    }
   ],
   "source": [
    "logistic = keras.models.load_model('./models/logistic')\n",
    "nn = keras.models.load_model('./models/nn')\n",
    "nn_2 = keras.models.load_model('./models/nn_2')\n",
    "rnn = keras.models.load_model('./models/rnn')"
   ]
  },
  {
   "cell_type": "code",
   "execution_count": 12,
   "metadata": {},
   "outputs": [],
   "source": [
    "def predict(str:str):\n",
    "    util.predict_all(str, logistic, nn, nn_2, rnn)"
   ]
  },
  {
   "cell_type": "code",
   "execution_count": 13,
   "metadata": {},
   "outputs": [
    {
     "name": "stdout",
     "output_type": "stream",
     "text": [
      "1/1 [==============================] - 0s 31ms/step\n",
      "Logistics model's prediction of tttththththtthtthhtt: 72.17% Computer\n",
      "1/1 [==============================] - 0s 30ms/step\n",
      "Neural Network model's prediction of tttththththtthtthhtt: 54.34% Computer\n",
      "1/1 [==============================] - 0s 26ms/step\n",
      "Neural Network model with streaks's prediction of tttththththtthtthhtt: 76.18% Computer\n",
      "1/1 [==============================] - 0s 89ms/step\n",
      "Recurrent Neural Network model's prediction of tttththththtthtthhtt: 75.20% Computer\n"
     ]
    }
   ],
   "source": [
    "sequence = util.random_coinflip()\n",
    "predict(sequence)"
   ]
  },
  {
   "cell_type": "code",
   "execution_count": 17,
   "metadata": {},
   "outputs": [
    {
     "name": "stdout",
     "output_type": "stream",
     "text": [
      "1/1 [==============================] - 0s 59ms/step\n",
      "Logistic model's prediction of hthththththththththt: 98.91% Human\n",
      "1/1 [==============================] - 0s 31ms/step\n",
      "Neural Network model's prediction of hthththththththththt: 91.15% Human\n",
      "1/1 [==============================] - 0s 31ms/step\n",
      "Neural Network model with streaks's prediction of hthththththththththt: 99.94% Human\n",
      "1/1 [==============================] - 0s 73ms/step\n",
      "Recurrent Neural Network model's prediction of hthththththththththt: 97.41% Human\n"
     ]
    }
   ],
   "source": [
    "sequence = \"hthththththththththt\"\n",
    "predict(sequence)"
   ]
  },
  {
   "cell_type": "code",
   "execution_count": 19,
   "metadata": {},
   "outputs": [
    {
     "name": "stdout",
     "output_type": "stream",
     "text": [
      "1/1 [==============================] - 0s 31ms/step\n",
      "Logistics model's prediction of hhtthhtthhtthhtthhtt: 99.46% Computer\n",
      "1/1 [==============================] - 0s 26ms/step\n",
      "Neural Network model's prediction of hhtthhtthhtthhtthhtt: 79.08% Computer\n",
      "1/1 [==============================] - 0s 27ms/step\n",
      "Neural Network model with streaks's prediction of hhtthhtthhtthhtthhtt: 91.84% Computer\n",
      "1/1 [==============================] - 0s 60ms/step\n",
      "Recurrent Neural Network model's prediction of hhtthhtthhtthhtthhtt: 88.62% Computer\n"
     ]
    }
   ],
   "source": [
    "sequence = \"hhtthhtthhtthhtthhtt\"\n",
    "predict(sequence)\n",
    "# Ummm... bruh"
   ]
  },
  {
   "cell_type": "code",
   "execution_count": 22,
   "metadata": {},
   "outputs": [
    {
     "name": "stdout",
     "output_type": "stream",
     "text": [
      "1/1 [==============================] - 0s 58ms/step\n",
      "Logistic model's prediction of httththththththhhtht: 91.52% Human\n",
      "1/1 [==============================] - 0s 26ms/step\n",
      "Neural Network model's prediction of httththththththhhtht: 60.51% Human\n",
      "1/1 [==============================] - 0s 27ms/step\n",
      "Neural Network model with streaks's prediction of httththththththhhtht: 98.40% Human\n",
      "1/1 [==============================] - 0s 59ms/step\n",
      "Recurrent Neural Network model's prediction of httththththththhhtht: 77.03% Human\n"
     ]
    }
   ],
   "source": [
    "sequence = \"httththththththhhtht\"\n",
    "predict(sequence)"
   ]
  }
 ],
 "metadata": {
  "kernelspec": {
   "display_name": "venv",
   "language": "python",
   "name": "python3"
  },
  "language_info": {
   "codemirror_mode": {
    "name": "ipython",
    "version": 3
   },
   "file_extension": ".py",
   "mimetype": "text/x-python",
   "name": "python",
   "nbconvert_exporter": "python",
   "pygments_lexer": "ipython3",
   "version": "3.9.15"
  },
  "orig_nbformat": 4,
  "vscode": {
   "interpreter": {
    "hash": "d0f6d8254eb83d39449414d1a3d23136d65ed16273f9b93f72c8276e237615e0"
   }
  }
 },
 "nbformat": 4,
 "nbformat_minor": 2
}
