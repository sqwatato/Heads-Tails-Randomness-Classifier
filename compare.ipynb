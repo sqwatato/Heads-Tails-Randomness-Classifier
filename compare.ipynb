{
 "cells": [
  {
   "attachments": {},
   "cell_type": "markdown",
   "metadata": {},
   "source": [
    "### Predicting whether a sequence of heads or tails of length 20 was computer generated or human written\n",
    "#### Comparison of all models"
   ]
  },
  {
   "cell_type": "code",
   "execution_count": 1,
   "metadata": {},
   "outputs": [],
   "source": [
    "import numpy as np\n",
    "import keras\n",
    "import util"
   ]
  },
  {
   "cell_type": "code",
   "execution_count": 2,
   "metadata": {},
   "outputs": [
    {
     "name": "stdout",
     "output_type": "stream",
     "text": [
      "Metal device set to: Apple M1\n",
      "\n",
      "systemMemory: 16.00 GB\n",
      "maxCacheSize: 5.33 GB\n",
      "\n"
     ]
    },
    {
     "name": "stderr",
     "output_type": "stream",
     "text": [
      "2023-01-21 14:51:28.766721: I tensorflow/core/common_runtime/pluggable_device/pluggable_device_factory.cc:306] Could not identify NUMA node of platform GPU ID 0, defaulting to 0. Your kernel may not have been built with NUMA support.\n",
      "2023-01-21 14:51:28.767102: I tensorflow/core/common_runtime/pluggable_device/pluggable_device_factory.cc:272] Created TensorFlow device (/job:localhost/replica:0/task:0/device:GPU:0 with 0 MB memory) -> physical PluggableDevice (device: 0, name: METAL, pci bus id: <undefined>)\n"
     ]
    },
    {
     "name": "stdout",
     "output_type": "stream",
     "text": [
      "WARNING:tensorflow:Layer lstm will not use cuDNN kernels since it doesn't meet the criteria. It will use a generic GPU kernel as fallback when running on GPU.\n",
      "WARNING:tensorflow:Layer gru will not use cuDNN kernels since it doesn't meet the criteria. It will use a generic GPU kernel as fallback when running on GPU.\n"
     ]
    }
   ],
   "source": [
    "logistic = keras.models.load_model('./models/logistic')\n",
    "nn = keras.models.load_model('./models/nn')\n",
    "nn_2 = keras.models.load_model('./models/nn_2')\n",
    "rnn = keras.models.load_model('./models/rnn')\n",
    "lstm = keras.models.load_model('./models/lstm')\n",
    "gru = keras.models.load_model('./models/gru')"
   ]
  },
  {
   "cell_type": "code",
   "execution_count": 3,
   "metadata": {},
   "outputs": [],
   "source": [
    "def predict(str:str):\n",
    "    util.predict_all(str, logistic, nn, nn_2, rnn, lstm, gru)"
   ]
  },
  {
   "cell_type": "code",
   "execution_count": 11,
   "metadata": {},
   "outputs": [
    {
     "name": "stdout",
     "output_type": "stream",
     "text": [
      "1/1 [==============================] - 0s 30ms/step\n",
      "Logistics model's prediction of tthhhttthhthththhhth: 65.28% Computer\n",
      "1/1 [==============================] - 0s 27ms/step\n",
      "Neural Network model's prediction of tthhhttthhthththhhth: 57.54% Computer\n",
      "1/1 [==============================] - 0s 34ms/step\n",
      "Neural Network model with streaks's prediction of tthhhttthhthththhhth: 72.03% Computer\n",
      "1/1 [==============================] - 0s 93ms/step\n",
      "Recurrent Neural Network model's prediction of tthhhttthhthththhhth: 52.65% Human\n",
      "1/1 [==============================] - 0s 83ms/step\n",
      "LSTM model's prediction of tthhhttthhthththhhth: 64.03% Computer\n",
      "1/1 [==============================] - 0s 83ms/step\n",
      "GRU model's prediction of tthhhttthhthththhhth: 63.60% Computer\n"
     ]
    }
   ],
   "source": [
    "sequence = util.random_coinflip()\n",
    "predict(sequence)"
   ]
  },
  {
   "cell_type": "code",
   "execution_count": 12,
   "metadata": {},
   "outputs": [
    {
     "name": "stdout",
     "output_type": "stream",
     "text": [
      "1/1 [==============================] - 0s 38ms/step\n",
      "Logistic model's prediction of hthththththththththt: 98.91% Human\n",
      "1/1 [==============================] - 0s 40ms/step\n",
      "Neural Network model's prediction of hthththththththththt: 91.15% Human\n",
      "1/1 [==============================] - 0s 38ms/step\n",
      "Neural Network model with streaks's prediction of hthththththththththt: 99.94% Human\n",
      "1/1 [==============================] - 0s 72ms/step\n",
      "Recurrent Neural Network model's prediction of hthththththththththt: 99.57% Human\n",
      "1/1 [==============================] - 0s 69ms/step\n",
      "LSTM model's prediction of hthththththththththt: 100.00% Human\n",
      "1/1 [==============================] - 0s 80ms/step\n",
      "GRU model's prediction of hthththththththththt: 99.96% Human\n"
     ]
    }
   ],
   "source": [
    "sequence = \"hthththththththththt\"\n",
    "predict(sequence)"
   ]
  },
  {
   "cell_type": "code",
   "execution_count": 13,
   "metadata": {},
   "outputs": [
    {
     "name": "stdout",
     "output_type": "stream",
     "text": [
      "1/1 [==============================] - 0s 31ms/step\n",
      "Logistics model's prediction of hhtthhtthhtthhtthhtt: 99.46% Computer\n",
      "1/1 [==============================] - 0s 28ms/step\n",
      "Neural Network model's prediction of hhtthhtthhtthhtthhtt: 79.08% Computer\n",
      "1/1 [==============================] - 0s 29ms/step\n",
      "Neural Network model with streaks's prediction of hhtthhtthhtthhtthhtt: 91.84% Computer\n",
      "1/1 [==============================] - 0s 84ms/step\n",
      "Recurrent Neural Network model's prediction of hhtthhtthhtthhtthhtt: 87.72% Computer\n",
      "1/1 [==============================] - 0s 77ms/step\n",
      "LSTM model's prediction of hhtthhtthhtthhtthhtt: 76.11% Computer\n",
      "1/1 [==============================] - 0s 137ms/step\n",
      "GRU model's prediction of hhtthhtthhtthhtthhtt: 85.12% Computer\n"
     ]
    }
   ],
   "source": [
    "sequence = \"hhtthhtthhtthhtthhtt\"\n",
    "predict(sequence)\n",
    "# Ummm... bruh"
   ]
  },
  {
   "cell_type": "code",
   "execution_count": 18,
   "metadata": {},
   "outputs": [
    {
     "name": "stdout",
     "output_type": "stream",
     "text": [
      "1/1 [==============================] - 0s 43ms/step\n",
      "Logistics model's prediction of hhhtththhhhtthttthhh: 90.03% Computer\n",
      "1/1 [==============================] - 0s 34ms/step\n",
      "Neural Network model's prediction of hhhtththhhhtthttthhh: 74.68% Computer\n",
      "1/1 [==============================] - 0s 31ms/step\n",
      "Neural Network model with streaks's prediction of hhhtththhhhtthttthhh: 80.25% Computer\n",
      "1/1 [==============================] - 0s 101ms/step\n",
      "Recurrent Neural Network model's prediction of hhhtththhhhtthttthhh: 82.42% Computer\n",
      "1/1 [==============================] - 0s 88ms/step\n",
      "LSTM model's prediction of hhhtththhhhtthttthhh: 74.21% Computer\n",
      "1/1 [==============================] - 0s 83ms/step\n",
      "GRU model's prediction of hhhtththhhhtthttthhh: 83.37% Computer\n"
     ]
    }
   ],
   "source": [
    "#          \"hhhhhhhhhhhhhhhhhhhh\"\n",
    "sequence = \"hhhtththhhhtthttthhh\"\n",
    "predict(sequence)"
   ]
  },
  {
   "cell_type": "code",
   "execution_count": null,
   "metadata": {},
   "outputs": [],
   "source": []
  }
 ],
 "metadata": {
  "kernelspec": {
   "display_name": "venv",
   "language": "python",
   "name": "python3"
  },
  "language_info": {
   "codemirror_mode": {
    "name": "ipython",
    "version": 3
   },
   "file_extension": ".py",
   "mimetype": "text/x-python",
   "name": "python",
   "nbconvert_exporter": "python",
   "pygments_lexer": "ipython3",
   "version": "3.9.15"
  },
  "orig_nbformat": 4,
  "vscode": {
   "interpreter": {
    "hash": "d0f6d8254eb83d39449414d1a3d23136d65ed16273f9b93f72c8276e237615e0"
   }
  }
 },
 "nbformat": 4,
 "nbformat_minor": 2
}
