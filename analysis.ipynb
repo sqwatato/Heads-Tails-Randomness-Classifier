{
 "cells": [
  {
   "attachments": {},
   "cell_type": "markdown",
   "metadata": {},
   "source": [
    "### Predicting whether a sequence of heads or tails of length 20 was computer generated or human written\n",
    "#### Analysis:"
   ]
  },
  {
   "cell_type": "code",
   "execution_count": null,
   "metadata": {},
   "outputs": [],
   "source": [
    "# Import Libraries\n",
    "import util\n",
    "import seaborn as sns\n",
    "import matplotlib.pyplot as plt\n",
    "import numpy as np"
   ]
  },
  {
   "cell_type": "code",
   "execution_count": null,
   "metadata": {},
   "outputs": [],
   "source": [
    "# Load Dataframes\n",
    "data, human, computer = util.load_analysis_data()"
   ]
  },
  {
   "cell_type": "code",
   "execution_count": null,
   "metadata": {},
   "outputs": [],
   "source": [
    "# Plot a countplot of times a sequence changed in the human dataset\n",
    "plt.figure(figsize=(6,3))\n",
    "human_freq_graph = sns.countplot(x=human['change_freq'])\n",
    "human_freq_graph.set(title ='Human')"
   ]
  },
  {
   "cell_type": "code",
   "execution_count": null,
   "metadata": {},
   "outputs": [],
   "source": [
    "# Plot a countplot of times a sequence changed\n",
    "plt.figure(figsize=(6,3))\n",
    "computer_freq_graph = sns.countplot(x=computer['change_freq'])\n",
    "computer_freq_graph.set(title ='Computer')"
   ]
  },
  {
   "cell_type": "code",
   "execution_count": null,
   "metadata": {},
   "outputs": [],
   "source": [
    "# Plot side by side\n",
    "g = sns.FacetGrid(data, col=\"class\", height=5)\n",
    "g.map_dataframe(sns.countplot, x=\"change_freq\")\n"
   ]
  },
  {
   "attachments": {},
   "cell_type": "markdown",
   "metadata": {},
   "source": [
    "- Computer has a gaussian distribution\n",
    "- Humans are more weighted near extremes"
   ]
  },
  {
   "cell_type": "code",
   "execution_count": null,
   "metadata": {},
   "outputs": [],
   "source": [
    "# I swear they are all length 20 the t is smoller than the h\n",
    "data.head(5)"
   ]
  }
 ],
 "metadata": {
  "kernelspec": {
   "display_name": "venv",
   "language": "python",
   "name": "python3"
  },
  "language_info": {
   "codemirror_mode": {
    "name": "ipython",
    "version": 3
   },
   "file_extension": ".py",
   "mimetype": "text/x-python",
   "name": "python",
   "nbconvert_exporter": "python",
   "pygments_lexer": "ipython3",
   "version": "3.9.15 (main, Oct 11 2022, 21:39:54) \n[Clang 14.0.0 (clang-1400.0.29.102)]"
  },
  "orig_nbformat": 4,
  "vscode": {
   "interpreter": {
    "hash": "d0f6d8254eb83d39449414d1a3d23136d65ed16273f9b93f72c8276e237615e0"
   }
  }
 },
 "nbformat": 4,
 "nbformat_minor": 2
}
